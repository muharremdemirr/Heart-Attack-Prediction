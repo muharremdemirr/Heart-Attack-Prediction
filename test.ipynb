{
 "cells": [
  {
   "cell_type": "code",
   "execution_count": 1,
   "id": "6bd57cd9-1ddb-416d-ab75-f78475e1c73a",
   "metadata": {},
   "outputs": [],
   "source": [
    "import pandas as pd\n",
    "import numpy as np\n",
    "import matplotlib.pyplot as plt\n",
    "import seaborn as sns\n",
    "from nicegui import ui \n",
    "import joblib\n",
    "import warnings\n",
    "import asyncio\n",
    "from ipywidgets import widgets, VBox, Button, Output\n",
    "from flask import Flask, request, jsonify\n",
    "import gradio as gr\n",
    "from dash import Dash, html, dcc, Input, Output\n",
    "warnings.filterwarnings(\"ignore\")\n",
    "\n",
    "from sklearn.preprocessing import RobustScaler\n",
    "from sklearn.model_selection import train_test_split\n",
    "\n",
    "from sklearn.svm import SVC\n",
    "from sklearn.linear_model import LogisticRegression\n",
    "from sklearn.ensemble import RandomForestClassifier\n",
    "from sklearn.tree import DecisionTreeClassifier\n",
    "from sklearn.ensemble import GradientBoostingClassifier\n",
    "\n",
    "from sklearn.metrics import accuracy_score, classification_report, roc_curve\n",
    "from sklearn.model_selection import cross_val_score\n",
    "from sklearn.model_selection import GridSearchCV"
   ]
  },
  {
   "cell_type": "code",
   "execution_count": 2,
   "id": "cc18b6d4-5c33-4ed7-8007-bc432dcb8a01",
   "metadata": {},
   "outputs": [],
   "source": [
    "df = pd.read_csv(\"heart.csv\")"
   ]
  },
  {
   "cell_type": "code",
   "execution_count": 3,
   "id": "225002ef-f8fb-421d-b171-c24617e46f01",
   "metadata": {},
   "outputs": [],
   "source": [
    "dft = df.copy()"
   ]
  },
  {
   "cell_type": "code",
   "execution_count": 4,
   "id": "499a4ee7-96ca-4db9-b2e8-140ac045fa6c",
   "metadata": {},
   "outputs": [
    {
     "data": {
      "text/plain": [
       "(303, 14)"
      ]
     },
     "execution_count": 4,
     "metadata": {},
     "output_type": "execute_result"
    }
   ],
   "source": [
    "df.shape"
   ]
  },
  {
   "cell_type": "code",
   "execution_count": 5,
   "id": "7b791e3c-ff3f-4ec6-bb6e-657d2fd834f6",
   "metadata": {},
   "outputs": [
    {
     "data": {
      "text/html": [
       "<div>\n",
       "<style scoped>\n",
       "    .dataframe tbody tr th:only-of-type {\n",
       "        vertical-align: middle;\n",
       "    }\n",
       "\n",
       "    .dataframe tbody tr th {\n",
       "        vertical-align: top;\n",
       "    }\n",
       "\n",
       "    .dataframe thead th {\n",
       "        text-align: right;\n",
       "    }\n",
       "</style>\n",
       "<table border=\"1\" class=\"dataframe\">\n",
       "  <thead>\n",
       "    <tr style=\"text-align: right;\">\n",
       "      <th></th>\n",
       "      <th>age</th>\n",
       "      <th>sex</th>\n",
       "      <th>cp</th>\n",
       "      <th>trtbps</th>\n",
       "      <th>chol</th>\n",
       "      <th>fbs</th>\n",
       "      <th>restecg</th>\n",
       "      <th>thalachh</th>\n",
       "      <th>exng</th>\n",
       "      <th>oldpeak</th>\n",
       "      <th>slp</th>\n",
       "      <th>caa</th>\n",
       "      <th>thall</th>\n",
       "      <th>output</th>\n",
       "    </tr>\n",
       "  </thead>\n",
       "  <tbody>\n",
       "    <tr>\n",
       "      <th>0</th>\n",
       "      <td>63</td>\n",
       "      <td>1</td>\n",
       "      <td>3</td>\n",
       "      <td>145</td>\n",
       "      <td>233</td>\n",
       "      <td>1</td>\n",
       "      <td>0</td>\n",
       "      <td>150</td>\n",
       "      <td>0</td>\n",
       "      <td>2.3</td>\n",
       "      <td>0</td>\n",
       "      <td>0</td>\n",
       "      <td>1</td>\n",
       "      <td>1</td>\n",
       "    </tr>\n",
       "    <tr>\n",
       "      <th>1</th>\n",
       "      <td>37</td>\n",
       "      <td>1</td>\n",
       "      <td>2</td>\n",
       "      <td>130</td>\n",
       "      <td>250</td>\n",
       "      <td>0</td>\n",
       "      <td>1</td>\n",
       "      <td>187</td>\n",
       "      <td>0</td>\n",
       "      <td>3.5</td>\n",
       "      <td>0</td>\n",
       "      <td>0</td>\n",
       "      <td>2</td>\n",
       "      <td>1</td>\n",
       "    </tr>\n",
       "    <tr>\n",
       "      <th>2</th>\n",
       "      <td>41</td>\n",
       "      <td>0</td>\n",
       "      <td>1</td>\n",
       "      <td>130</td>\n",
       "      <td>204</td>\n",
       "      <td>0</td>\n",
       "      <td>0</td>\n",
       "      <td>172</td>\n",
       "      <td>0</td>\n",
       "      <td>1.4</td>\n",
       "      <td>2</td>\n",
       "      <td>0</td>\n",
       "      <td>2</td>\n",
       "      <td>1</td>\n",
       "    </tr>\n",
       "    <tr>\n",
       "      <th>3</th>\n",
       "      <td>56</td>\n",
       "      <td>1</td>\n",
       "      <td>1</td>\n",
       "      <td>120</td>\n",
       "      <td>236</td>\n",
       "      <td>0</td>\n",
       "      <td>1</td>\n",
       "      <td>178</td>\n",
       "      <td>0</td>\n",
       "      <td>0.8</td>\n",
       "      <td>2</td>\n",
       "      <td>0</td>\n",
       "      <td>2</td>\n",
       "      <td>1</td>\n",
       "    </tr>\n",
       "    <tr>\n",
       "      <th>4</th>\n",
       "      <td>57</td>\n",
       "      <td>0</td>\n",
       "      <td>0</td>\n",
       "      <td>120</td>\n",
       "      <td>354</td>\n",
       "      <td>0</td>\n",
       "      <td>1</td>\n",
       "      <td>163</td>\n",
       "      <td>1</td>\n",
       "      <td>0.6</td>\n",
       "      <td>2</td>\n",
       "      <td>0</td>\n",
       "      <td>2</td>\n",
       "      <td>1</td>\n",
       "    </tr>\n",
       "  </tbody>\n",
       "</table>\n",
       "</div>"
      ],
      "text/plain": [
       "   age  sex  cp  trtbps  chol  fbs  restecg  thalachh  exng  oldpeak  slp  \\\n",
       "0   63    1   3     145   233    1        0       150     0      2.3    0   \n",
       "1   37    1   2     130   250    0        1       187     0      3.5    0   \n",
       "2   41    0   1     130   204    0        0       172     0      1.4    2   \n",
       "3   56    1   1     120   236    0        1       178     0      0.8    2   \n",
       "4   57    0   0     120   354    0        1       163     1      0.6    2   \n",
       "\n",
       "   caa  thall  output  \n",
       "0    0      1       1  \n",
       "1    0      2       1  \n",
       "2    0      2       1  \n",
       "3    0      2       1  \n",
       "4    0      2       1  "
      ]
     },
     "execution_count": 5,
     "metadata": {},
     "output_type": "execute_result"
    }
   ],
   "source": [
    "df.head()"
   ]
  },
  {
   "cell_type": "code",
   "execution_count": 6,
   "id": "0042b6a1-ceca-4abe-a0b1-232533c0a6a5",
   "metadata": {},
   "outputs": [
    {
     "data": {
      "text/plain": [
       "age         0\n",
       "sex         0\n",
       "cp          0\n",
       "trtbps      0\n",
       "chol        0\n",
       "fbs         0\n",
       "restecg     0\n",
       "thalachh    0\n",
       "exng        0\n",
       "oldpeak     0\n",
       "slp         0\n",
       "caa         0\n",
       "thall       0\n",
       "output      0\n",
       "dtype: int64"
      ]
     },
     "execution_count": 6,
     "metadata": {},
     "output_type": "execute_result"
    }
   ],
   "source": [
    "df.isnull().sum()"
   ]
  },
  {
   "cell_type": "code",
   "execution_count": 7,
   "id": "ea22d6ac-c76d-4347-94a2-2c85e13177d0",
   "metadata": {},
   "outputs": [],
   "source": [
    "X = df.drop(['output'],axis=1)\n",
    "y = df[['output']]"
   ]
  },
  {
   "cell_type": "code",
   "execution_count": 8,
   "id": "af19e41c-4aab-40ae-af2f-32ba8281cb9b",
   "metadata": {},
   "outputs": [],
   "source": [
    "X_train, X_test, y_train, y_test = train_test_split(X,y, test_size = 0.2, random_state = 42)"
   ]
  },
  {
   "cell_type": "code",
   "execution_count": 9,
   "id": "8cbc340e-4a56-4dd4-9237-7ccfcb30bca6",
   "metadata": {},
   "outputs": [
    {
     "name": "stdout",
     "output_type": "stream",
     "text": [
      "The test accuracy score of Logistric Regression is  0.8852459016393442\n"
     ]
    }
   ],
   "source": [
    "logreg = LogisticRegression()\n",
    "\n",
    "logreg.fit(X_train, y_train)\n",
    "\n",
    "y_pred_proba = logreg.predict_proba(X_test)\n",
    "\n",
    "y_pred = np.argmax(y_pred_proba,axis=1)\n",
    "\n",
    "print(\"The test accuracy score of Logistric Regression is \", accuracy_score(y_test, y_pred))"
   ]
  },
  {
   "cell_type": "code",
   "execution_count": 11,
   "id": "d8b35510-579e-4d16-92eb-aa0758ab3f06",
   "metadata": {},
   "outputs": [
    {
     "data": {
      "text/plain": [
       "['logreg_model.pkl']"
      ]
     },
     "execution_count": 11,
     "metadata": {},
     "output_type": "execute_result"
    }
   ],
   "source": [
    "joblib.dump(logreg, 'logreg_model.pkl')"
   ]
  },
  {
   "cell_type": "code",
   "execution_count": 12,
   "id": "123af9de-2c18-4318-aadf-eadfcab3cbf9",
   "metadata": {},
   "outputs": [],
   "source": [
    "loaded_model = joblib.load('logreg_model.pkl')"
   ]
  },
  {
   "cell_type": "code",
   "execution_count": 12,
   "id": "9f5f77d4-10dd-4153-b564-41658a9f8acc",
   "metadata": {},
   "outputs": [
    {
     "data": {
      "text/html": [
       "\n",
       "        <iframe\n",
       "            width=\"100%\"\n",
       "            height=\"650\"\n",
       "            src=\"http://127.0.0.1:8040/\"\n",
       "            frameborder=\"0\"\n",
       "            allowfullscreen\n",
       "            \n",
       "        ></iframe>\n",
       "        "
      ],
      "text/plain": [
       "<IPython.lib.display.IFrame at 0x7f3318f642b0>"
      ]
     },
     "metadata": {},
     "output_type": "display_data"
    }
   ],
   "source": [
    "# Modeli yükleyin\n",
    "model = joblib.load('logreg_model.pkl')\n",
    "\n",
    "# Dash uygulamasını başlatın\n",
    "app = Dash(__name__)\n",
    "\n",
    "# Uygulama tasarımı\n",
    "app.layout = html.Div([\n",
    "    html.H1(\"Tahmin Uygulaması\", style={'textAlign': 'center', 'marginBottom': '20px'}),\n",
    "    html.Div([\n",
    "        html.Div([\n",
    "            html.Label(\"Yaş:\", style={'display': 'block'}),\n",
    "            dcc.Input(id='input-age', type='number', placeholder='Yaş', style={'marginBottom': '10px', 'width': '100%'})\n",
    "        ]),\n",
    "        \n",
    "        html.Div([\n",
    "            html.Label(\"Cinsiyet (0: Kadın, 1: Erkek):\", style={'display': 'block'}),\n",
    "            dcc.Input(id='input-sex', type='number', placeholder='Cinsiyet', style={'marginBottom': '10px', 'width': '100%'})\n",
    "        ]),\n",
    "\n",
    "        html.Div([\n",
    "            html.Label(\"Göğüs Ağrısı Tipi (0-3):\", style={'display': 'block'}),\n",
    "            dcc.Input(id='input-cp', type='number', placeholder='Göğüs Ağrısı Tipi', style={'marginBottom': '10px', 'width': '100%'})\n",
    "        ]),\n",
    "\n",
    "        html.Div([\n",
    "            html.Label(\"Dinlenme Kan Basıncı:\", style={'display': 'block'}),\n",
    "            dcc.Input(id='input-trestbps', type='number', placeholder='Dinlenme Kan Basıncı', style={'marginBottom': '10px', 'width': '100%'})\n",
    "        ]),\n",
    "\n",
    "        html.Div([\n",
    "            html.Label(\"Kolesterol Seviyesi:\", style={'display': 'block'}),\n",
    "            dcc.Input(id='input-chol', type='number', placeholder='Kolesterol Seviyesi', style={'marginBottom': '10px', 'width': '100%'})\n",
    "        ]),\n",
    "\n",
    "        html.Div([\n",
    "            html.Label(\"Açlık Kan Şekeri (>120mg/dl, 1: True, 0: False):\", style={'display': 'block'}),\n",
    "            dcc.Input(id='input-fbs', type='number', placeholder='Açlık Kan Şekeri', style={'marginBottom': '10px', 'width': '100%'})\n",
    "        ]),\n",
    "\n",
    "        html.Div([\n",
    "            html.Label(\"Rest ECG (0-2):\", style={'display': 'block'}),\n",
    "            dcc.Input(id='input-restecg', type='number', placeholder='Rest ECG', style={'marginBottom': '10px', 'width': '100%'})\n",
    "        ]),\n",
    "\n",
    "        html.Div([\n",
    "            html.Label(\"Maksimum Kalp Atım Hızı:\", style={'display': 'block'}),\n",
    "            dcc.Input(id='input-thalach', type='number', placeholder='Maksimum Kalp Atım Hızı', style={'marginBottom': '10px', 'width': '100%'})\n",
    "        ]),\n",
    "\n",
    "        html.Div([\n",
    "            html.Label(\"Egzersiz ile Ağrı (1: Evet, 0: Hayır):\", style={'display': 'block'}),\n",
    "            dcc.Input(id='input-exang', type='number', placeholder='Egzersiz ile Ağrı', style={'marginBottom': '10px', 'width': '100%'})\n",
    "        ]),\n",
    "\n",
    "        html.Div([\n",
    "            html.Label(\"ST Depresyonu:\", style={'display': 'block'}),\n",
    "            dcc.Input(id='input-oldpeak', type='number', placeholder='ST Depresyonu', style={'marginBottom': '10px', 'width': '100%'})\n",
    "        ]),\n",
    "\n",
    "        html.Div([\n",
    "            html.Label(\"Eğim (0-2):\", style={'display': 'block'}),\n",
    "            dcc.Input(id='input-slope', type='number', placeholder='Eğim', style={'marginBottom': '10px', 'width': '100%'})\n",
    "        ]),\n",
    "\n",
    "        html.Div([\n",
    "            html.Label(\"Renkli Damar Sayısı (0-4):\", style={'display': 'block'}),\n",
    "            dcc.Input(id='input-ca', type='number', placeholder='Renkli Damar Sayısı', style={'marginBottom': '10px', 'width': '100%'})\n",
    "        ]),\n",
    "\n",
    "        html.Div([\n",
    "            html.Label(\"THAL (1: Normal, 2: Sabit Hata, 3: Ters Hata):\", style={'display': 'block'}),\n",
    "            dcc.Input(id='input-thal', type='number', placeholder='THAL', style={'marginBottom': '10px', 'width': '100%'})\n",
    "        ]),\n",
    "    ], style={'maxWidth': '400px', 'margin': '0 auto'}),\n",
    "    \n",
    "    html.Button('Tahmin Et', id='predict-btn', n_clicks=0, style={\n",
    "        'display': 'block', 'margin': '20px auto', 'padding': '10px 20px', 'fontSize': '16px'\n",
    "    }),\n",
    "    html.Div(id='output', style={'marginTop': '20px', 'textAlign': 'center', 'fontSize': '20px'})\n",
    "])\n",
    "\n",
    "# Callback fonksiyonu\n",
    "@app.callback(\n",
    "    Output('output', 'children'),\n",
    "    Input('predict-btn', 'n_clicks'),\n",
    "    [Input(f'input-{field}', 'value') for field in [\n",
    "        'age', 'sex', 'cp', 'trestbps', 'chol', 'fbs',\n",
    "        'restecg', 'thalach', 'exang', 'oldpeak', 'slope', 'ca', 'thal']]\n",
    ")\n",
    "def predict(n_clicks, *inputs):\n",
    "    if n_clicks > 0:\n",
    "        if None in inputs:\n",
    "            return \"Lütfen tüm alanları doldurun!\"\n",
    "        try:\n",
    "            new_data = np.array([inputs])\n",
    "            prediction = model.predict(new_data)\n",
    "            probabilities = model.predict_proba(new_data)\n",
    "            risk_percentage = probabilities[0][1] * 100  # 1. sınıf (kalp krizi) olasılığı\n",
    "            return f\"Tahmin Sonucu: {'Pozitif' if prediction[0] == 1 else 'Negatif'}\\n\" \\\n",
    "                   f\"Kalp Krizi Geçirme Riski: %{risk_percentage:.2f}\"\n",
    "        except Exception as e:\n",
    "            return f\"Bir hata oluştu: {str(e)}\"\n",
    "    return \"\"\n",
    "\n",
    "if __name__ == '__main__':\n",
    "    app.run_server(debug=True,port=8040)\n"
   ]
  },
  {
   "cell_type": "markdown",
   "id": "74ec01b8-1d88-4c45-bc46-f797021df06a",
   "metadata": {},
   "source": [
    "# Modeli yükleyin\n",
    "model = joblib.load('logreg_model.pkl')\n",
    "\n",
    "# Dash uygulamasını başlatın\n",
    "app = Dash(__name__)\n",
    "\n",
    "# Uygulama tasarımı\n",
    "app.layout = html.Div([\n",
    "    html.H1(\"Tahmin Uygulaması\", style={'textAlign': 'center', 'marginBottom': '20px'}),\n",
    "    html.Div([\n",
    "        dcc.Input(id='input-age', type='number', placeholder='Yaş', style={'marginBottom': '10px', 'width': '100%'}),\n",
    "        dcc.Input(id='input-sex', type='number', placeholder='Cinsiyet (0: Kadın, 1: Erkek)', style={'marginBottom': '10px', 'width': '100%'}),\n",
    "        dcc.Input(id='input-cp', type='number', placeholder='Göğüs Ağrısı Tipi (0-3)', style={'marginBottom': '10px', 'width': '100%'}),\n",
    "        dcc.Input(id='input-trestbps', type='number', placeholder='Dinlenme Kan Basıncı', style={'marginBottom': '10px', 'width': '100%'}),\n",
    "        dcc.Input(id='input-chol', type='number', placeholder='Kolesterol Seviyesi', style={'marginBottom': '10px', 'width': '100%'}),\n",
    "        dcc.Input(id='input-fbs', type='number', placeholder='Açlık Kan Şekeri (>120mg/dl, 1: True, 0: False)', style={'marginBottom': '10px', 'width': '100%'}),\n",
    "        dcc.Input(id='input-restecg', type='number', placeholder='Rest ECG (0-2)', style={'marginBottom': '10px', 'width': '100%'}),\n",
    "        dcc.Input(id='input-thalach', type='number', placeholder='Maksimum Kalp Atım Hızı', style={'marginBottom': '10px', 'width': '100%'}),\n",
    "        dcc.Input(id='input-exang', type='number', placeholder='Egzersiz ile Ağrı (1: Evet, 0: Hayır)', style={'marginBottom': '10px', 'width': '100%'}),\n",
    "        dcc.Input(id='input-oldpeak', type='number', placeholder='ST Depresyonu', style={'marginBottom': '10px', 'width': '100%'}),\n",
    "        dcc.Input(id='input-slope', type='number', placeholder='Eğim (0-2)', style={'marginBottom': '10px', 'width': '100%'}),\n",
    "        dcc.Input(id='input-ca', type='number', placeholder='Renkli Damar Sayısı (0-4)', style={'marginBottom': '10px', 'width': '100%'}),\n",
    "        dcc.Input(id='input-thal', type='number', placeholder='THAL (1: Normal, 2: Sabit Hata, 3: Ters Hata)', style={'marginBottom': '10px', 'width': '100%'}),\n",
    "    ], style={'maxWidth': '400px', 'margin': '0 auto'}),\n",
    "    html.Button('Tahmin Et', id='predict-btn', n_clicks=0, style={\n",
    "        'display': 'block', 'margin': '20px auto', 'padding': '10px 20px', 'fontSize': '16px'\n",
    "    }),\n",
    "    html.Div(id='output', style={'marginTop': '20px', 'textAlign': 'center', 'fontSize': '20px'})\n",
    "])\n",
    "\n",
    "# Callback fonksiyonu\n",
    "@app.callback(\n",
    "    Output('output', 'children'),\n",
    "    Input('predict-btn', 'n_clicks'),\n",
    "    [Input(f'input-{field}', 'value') for field in [\n",
    "        'age', 'sex', 'cp', 'trestbps', 'chol', 'fbs',\n",
    "        'restecg', 'thalach', 'exang', 'oldpeak', 'slope', 'ca', 'thal']]\n",
    ")\n",
    "def predict(n_clicks, *inputs):\n",
    "    if n_clicks > 0:\n",
    "        if None in inputs:\n",
    "            return \"Lütfen tüm alanları doldurun!\"\n",
    "        try:\n",
    "            new_data = np.array([inputs])\n",
    "            prediction = model.predict(new_data)\n",
    "            return f\"Tahmin Sonucu: {'Pozitif' if prediction[0] == 1 else 'Negatif'}\"\n",
    "        except Exception as e:\n",
    "            return f\"Bir hata oluştu: {str(e)}\"\n",
    "    return \"\"\n",
    "\n",
    "if __name__ == '__main__':\n",
    "    app.run_server(debug=True)\n"
   ]
  },
  {
   "cell_type": "markdown",
   "id": "5b0e2ccd-78f0-4bf2-8319-4c9c38875a65",
   "metadata": {},
   "source": [
    "Decision Tree"
   ]
  },
  {
   "cell_type": "code",
   "execution_count": 9,
   "id": "62fa6f97-810b-4bd4-b0f2-1732bd73fb05",
   "metadata": {},
   "outputs": [
    {
     "name": "stdout",
     "output_type": "stream",
     "text": [
      "The test accuracy score of Decision Tree is  0.7540983606557377\n"
     ]
    }
   ],
   "source": [
    "dt = DecisionTreeClassifier(random_state = 42)\n",
    "\n",
    "# fitting the model\n",
    "dt.fit(X_train, y_train)\n",
    "\n",
    "# calculating the predictions\n",
    "y_pred = dt.predict(X_test)\n",
    "\n",
    "# printing the test accuracy\n",
    "print(\"The test accuracy score of Decision Tree is \", accuracy_score(y_test, y_pred))"
   ]
  },
  {
   "cell_type": "code",
   "execution_count": null,
   "id": "307059ee-34e0-4b27-b264-dd1e4f870f87",
   "metadata": {},
   "outputs": [],
   "source": []
  },
  {
   "cell_type": "markdown",
   "id": "3078c7ee-b8f8-4075-a899-c71f044ad8a3",
   "metadata": {},
   "source": [
    "Log Reg"
   ]
  },
  {
   "cell_type": "markdown",
   "id": "ccf30e90-9e7b-4042-bfe7-98b093624c8d",
   "metadata": {},
   "source": [
    "Random Forest"
   ]
  },
  {
   "cell_type": "code",
   "execution_count": 11,
   "id": "df7b99dc-d626-4699-a9d1-6b44e1dae651",
   "metadata": {},
   "outputs": [
    {
     "name": "stdout",
     "output_type": "stream",
     "text": [
      "The test accuracy score of Random Forest is  0.7540983606557377\n"
     ]
    }
   ],
   "source": [
    "rf = RandomForestClassifier()\n",
    "\n",
    "rf.fit(X_train, y_train)\n",
    "\n",
    "y_pred = dt.predict(X_test)\n",
    "\n",
    "print(\"The test accuracy score of Random Forest is \", accuracy_score(y_test, y_pred))"
   ]
  },
  {
   "cell_type": "markdown",
   "id": "20c1a2da-cdcb-40d4-8ecc-503f78b278c1",
   "metadata": {},
   "source": [
    "GBT"
   ]
  },
  {
   "cell_type": "code",
   "execution_count": 14,
   "id": "e2152442-1827-4ec6-8e8a-d8a12889bddc",
   "metadata": {},
   "outputs": [
    {
     "name": "stdout",
     "output_type": "stream",
     "text": [
      "The test accuracy score of Gradient Boosting Classifier is  0.8688524590163934\n"
     ]
    }
   ],
   "source": [
    "gbt = GradientBoostingClassifier(n_estimators = 300,max_depth=1,subsample=0.8,max_features=0.2,random_state=42)\n",
    "\n",
    "gbt.fit(X_train,y_train)\n",
    "\n",
    "y_pred = gbt.predict(X_test)\n",
    "print(\"The test accuracy score of Gradient Boosting Classifier is \", accuracy_score(y_test, y_pred))"
   ]
  },
  {
   "cell_type": "markdown",
   "id": "499f65d9-4fb7-4e3f-9729-ed53a109fb29",
   "metadata": {},
   "source": [
    "SVM"
   ]
  },
  {
   "cell_type": "code",
   "execution_count": 13,
   "id": "ee0fc068-7655-4799-b0b0-227b6decec1d",
   "metadata": {},
   "outputs": [
    {
     "name": "stdout",
     "output_type": "stream",
     "text": [
      "The test accuracy score of SVM is  0.8688524590163934\n"
     ]
    }
   ],
   "source": [
    "clf = SVC(kernel='linear', C=1, random_state=42).fit(X_train,y_train)\n",
    "\n",
    "y_pred = clf.predict(X_test)\n",
    "\n",
    "print(\"The test accuracy score of SVM is \", accuracy_score(y_test, y_pred))"
   ]
  },
  {
   "cell_type": "code",
   "execution_count": 14,
   "id": "4bf36eb0-d9ca-434b-a4b5-f1d9318b8da7",
   "metadata": {},
   "outputs": [
    {
     "name": "stdout",
     "output_type": "stream",
     "text": [
      "The best params are : {'C': 5, 'gamma': 0.0005}\n",
      "The best score is   : 0.6855442176870749\n",
      "The test accuracy score of SVM after hyper-parameter tuning is  0.7049180327868853\n"
     ]
    }
   ],
   "source": [
    "svm = SVC()\n",
    "\n",
    "parameters = {\"C\":np.arange(1,10,1),'gamma':[0.00001,0.00005, 0.0001,0.0005,0.001,0.005,0.01,0.05,0.1,0.5,1,5]}\n",
    "\n",
    "searcher = GridSearchCV(svm, parameters)\n",
    "\n",
    "searcher.fit(X_train, y_train)\n",
    "\n",
    "print(\"The best params are :\", searcher.best_params_)\n",
    "print(\"The best score is   :\", searcher.best_score_)\n",
    "\n",
    "y_pred = searcher.predict(X_test)\n",
    "\n",
    "print(\"The test accuracy score of SVM after hyper-parameter tuning is \", accuracy_score(y_test, y_pred))"
   ]
  },
  {
   "cell_type": "code",
   "execution_count": 17,
   "id": "8dbbb577-a4ad-4d8e-80f3-f9d82aa526b4",
   "metadata": {},
   "outputs": [
    {
     "name": "stdout",
     "output_type": "stream",
     "text": [
      "Tahmin sonucu:  [1]\n"
     ]
    }
   ],
   "source": [
    "new_data = np.array([[63, 1, 3, 145, 233, 1, 0, 150, 0, 2.3, 0, 0, 1]])\n",
    "prediction = loaded_model.predict(new_data)\n",
    "print(\"Tahmin sonucu: \", prediction)"
   ]
  },
  {
   "cell_type": "code",
   "execution_count": 17,
   "id": "7005cab5-d2e1-4be6-be76-fde04d4a9e88",
   "metadata": {},
   "outputs": [],
   "source": [
    "loaded_model_gbt = joblib.load('gbt_model.pkl')"
   ]
  },
  {
   "cell_type": "code",
   "execution_count": 16,
   "id": "e9b76212-6693-462e-8a07-28d2e456e122",
   "metadata": {},
   "outputs": [
    {
     "data": {
      "text/plain": [
       "['gbt_model.pkl']"
      ]
     },
     "execution_count": 16,
     "metadata": {},
     "output_type": "execute_result"
    }
   ],
   "source": [
    "joblib.dump(gbt, 'gbt_model.pkl')"
   ]
  },
  {
   "cell_type": "code",
   "execution_count": 20,
   "id": "786eceda-b4b5-41cc-bde6-bee6fb80736b",
   "metadata": {},
   "outputs": [
    {
     "name": "stdout",
     "output_type": "stream",
     "text": [
      "Tahmin sonucu:  [1]\n"
     ]
    }
   ],
   "source": [
    "prediction = loaded_model_gbt.predict(new_data)\n",
    "print(\"Tahmin sonucu: \", prediction)"
   ]
  },
  {
   "cell_type": "code",
   "execution_count": 19,
   "id": "eed525c1-2a00-460d-a74a-b499df00d355",
   "metadata": {},
   "outputs": [
    {
     "data": {
      "text/html": [
       "\n",
       "        <iframe\n",
       "            width=\"100%\"\n",
       "            height=\"650\"\n",
       "            src=\"http://127.0.0.1:8030/\"\n",
       "            frameborder=\"0\"\n",
       "            allowfullscreen\n",
       "            \n",
       "        ></iframe>\n",
       "        "
      ],
      "text/plain": [
       "<IPython.lib.display.IFrame at 0x7f8696cf08b0>"
      ]
     },
     "metadata": {},
     "output_type": "display_data"
    }
   ],
   "source": [
    "# Modeli yükleyin\n",
    "model = joblib.load('gbt_model.pkl')\n",
    "\n",
    "# Dash uygulamasını başlatın\n",
    "app = Dash(__name__)\n",
    "\n",
    "# Uygulama tasarımı\n",
    "app.layout = html.Div([\n",
    "    html.H1(\"Tahmin Uygulaması\", style={'textAlign': 'center', 'marginBottom': '20px'}),\n",
    "    html.Div([\n",
    "        html.Div([\n",
    "            html.Label(\"Yaş:\", style={'display': 'block'}),\n",
    "            dcc.Input(id='input-age', type='number', placeholder='Yaş', style={'marginBottom': '10px', 'width': '100%'})\n",
    "        ]),\n",
    "        \n",
    "        html.Div([\n",
    "            html.Label(\"Cinsiyet (0: Kadın, 1: Erkek):\", style={'display': 'block'}),\n",
    "            dcc.Input(id='input-sex', type='number', placeholder='Cinsiyet', style={'marginBottom': '10px', 'width': '100%'})\n",
    "        ]),\n",
    "\n",
    "        html.Div([\n",
    "            html.Label(\"Göğüs Ağrısı Tipi (0-3):\", style={'display': 'block'}),\n",
    "            dcc.Input(id='input-cp', type='number', placeholder='Göğüs Ağrısı Tipi', style={'marginBottom': '10px', 'width': '100%'})\n",
    "        ]),\n",
    "\n",
    "        html.Div([\n",
    "            html.Label(\"Dinlenme Kan Basıncı:\", style={'display': 'block'}),\n",
    "            dcc.Input(id='input-trestbps', type='number', placeholder='Dinlenme Kan Basıncı', style={'marginBottom': '10px', 'width': '100%'})\n",
    "        ]),\n",
    "\n",
    "        html.Div([\n",
    "            html.Label(\"Kolesterol Seviyesi:\", style={'display': 'block'}),\n",
    "            dcc.Input(id='input-chol', type='number', placeholder='Kolesterol Seviyesi', style={'marginBottom': '10px', 'width': '100%'})\n",
    "        ]),\n",
    "\n",
    "        html.Div([\n",
    "            html.Label(\"Açlık Kan Şekeri (>120mg/dl, 1: True, 0: False):\", style={'display': 'block'}),\n",
    "            dcc.Input(id='input-fbs', type='number', placeholder='Açlık Kan Şekeri', style={'marginBottom': '10px', 'width': '100%'})\n",
    "        ]),\n",
    "\n",
    "        html.Div([\n",
    "            html.Label(\"Rest ECG (0-2):\", style={'display': 'block'}),\n",
    "            dcc.Input(id='input-restecg', type='number', placeholder='Rest ECG', style={'marginBottom': '10px', 'width': '100%'})\n",
    "        ]),\n",
    "\n",
    "        html.Div([\n",
    "            html.Label(\"Maksimum Kalp Atım Hızı:\", style={'display': 'block'}),\n",
    "            dcc.Input(id='input-thalach', type='number', placeholder='Maksimum Kalp Atım Hızı', style={'marginBottom': '10px', 'width': '100%'})\n",
    "        ]),\n",
    "\n",
    "        html.Div([\n",
    "            html.Label(\"Egzersiz ile Ağrı (1: Evet, 0: Hayır):\", style={'display': 'block'}),\n",
    "            dcc.Input(id='input-exang', type='number', placeholder='Egzersiz ile Ağrı', style={'marginBottom': '10px', 'width': '100%'})\n",
    "        ]),\n",
    "\n",
    "        html.Div([\n",
    "            html.Label(\"ST Depresyonu:\", style={'display': 'block'}),\n",
    "            dcc.Input(id='input-oldpeak', type='number', placeholder='ST Depresyonu', style={'marginBottom': '10px', 'width': '100%'})\n",
    "        ]),\n",
    "\n",
    "        html.Div([\n",
    "            html.Label(\"Eğim (0-2):\", style={'display': 'block'}),\n",
    "            dcc.Input(id='input-slope', type='number', placeholder='Eğim', style={'marginBottom': '10px', 'width': '100%'})\n",
    "        ]),\n",
    "\n",
    "        html.Div([\n",
    "            html.Label(\"Renkli Damar Sayısı (0-4):\", style={'display': 'block'}),\n",
    "            dcc.Input(id='input-ca', type='number', placeholder='Renkli Damar Sayısı', style={'marginBottom': '10px', 'width': '100%'})\n",
    "        ]),\n",
    "\n",
    "        html.Div([\n",
    "            html.Label(\"THAL (1: Normal, 2: Sabit Hata, 3: Ters Hata):\", style={'display': 'block'}),\n",
    "            dcc.Input(id='input-thal', type='number', placeholder='THAL', style={'marginBottom': '10px', 'width': '100%'})\n",
    "        ]),\n",
    "    ], style={'maxWidth': '400px', 'margin': '0 auto'}),\n",
    "    \n",
    "    html.Button('Tahmin Et', id='predict-btn', n_clicks=0, style={\n",
    "        'display': 'block', 'margin': '20px auto', 'padding': '10px 20px', 'fontSize': '16px'\n",
    "    }),\n",
    "    html.Div(id='output', style={'marginTop': '20px', 'textAlign': 'center', 'fontSize': '20px'})\n",
    "])\n",
    "\n",
    "# Callback fonksiyonu\n",
    "@app.callback(\n",
    "    Output('output', 'children'),\n",
    "    Input('predict-btn', 'n_clicks'),\n",
    "    [Input(f'input-{field}', 'value') for field in [\n",
    "        'age', 'sex', 'cp', 'trestbps', 'chol', 'fbs',\n",
    "        'restecg', 'thalach', 'exang', 'oldpeak', 'slope', 'ca', 'thal']]\n",
    ")\n",
    "def predict(n_clicks, *inputs):\n",
    "    if n_clicks > 0:\n",
    "        if None in inputs:\n",
    "            return \"Lütfen tüm alanları doldurun!\"\n",
    "        try:\n",
    "            new_data = np.array([inputs])\n",
    "            prediction = model.predict(new_data)\n",
    "            probabilities = model.predict_proba(new_data)\n",
    "            risk_percentage = probabilities[0][1] * 100  # 1. sınıf (kalp krizi) olasılığı\n",
    "            return f\"Tahmin Sonucu: {'Pozitif' if prediction[0] == 1 else 'Negatif'}\\n\" \\\n",
    "                   f\"Kalp Krizi Geçirme Riski: %{risk_percentage:.2f}\"\n",
    "        except Exception as e:\n",
    "            return f\"Bir hata oluştu: {str(e)}\"\n",
    "    return \"\"\n",
    "\n",
    "if __name__ == '__main__':\n",
    "    app.run_server(debug=True,port=8030)\n"
   ]
  },
  {
   "cell_type": "code",
   "execution_count": null,
   "id": "47e87795-39af-4016-84d4-46e91456dc49",
   "metadata": {},
   "outputs": [],
   "source": []
  }
 ],
 "metadata": {
  "kernelspec": {
   "display_name": "Python 3 (ipykernel)",
   "language": "python",
   "name": "python3"
  },
  "language_info": {
   "codemirror_mode": {
    "name": "ipython",
    "version": 3
   },
   "file_extension": ".py",
   "mimetype": "text/x-python",
   "name": "python",
   "nbconvert_exporter": "python",
   "pygments_lexer": "ipython3",
   "version": "3.9.19"
  }
 },
 "nbformat": 4,
 "nbformat_minor": 5
}
